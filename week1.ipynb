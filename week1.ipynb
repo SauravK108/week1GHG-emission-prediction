{
 "cells": [
  {
   "cell_type": "markdown",
   "id": "d4d402a1",
   "metadata": {},
   "source": [
    "Introduction to project GHG(Greenhouse Gas) Emission Prediction\n",
    "\n",
    "\n",
    "\n",
    "what is the aim to predict? - To analyze and predict greenhouse gas(GHG) from various U.S industries and commodities using official dataset from data.gov\n",
    "\n",
    "what tools are being used here - Python, Pandas, Scikit-learn, Matplotlib, Seaborn \n",
    "\n",
    "what models are being used here - Linear Regression, Random Forest \n",
    "\n",
    "what evaluation metrics are being used here - RMSE(Root Mean Squared Error), MAE(Mean Absolute Error), R^2 Score\n",
    "\n",
    "what dataset are being used here - dataset contains supply chain emission factors associated with various U.S. industries and commodities\n",
    "\n",
    "STEPS - \n",
    "- Step 1: Import Required Libraries\n",
    "- Step 2: Load Dataset\n",
    "- Step 3: Data Preprocessing (EDA+Cleaning+Encoding)\n",
    "- Step 4: Training\n",
    "- Step 5: Prediction and Evaluation\n",
    "- Step 6: Hyperparameter Tuning\n",
    "- Step 7: Comapartive Study and Slecting the Best model \n"
   ]
  },
  {
   "cell_type": "code",
   "execution_count": 1,
   "id": "b96ac23e",
   "metadata": {},
   "outputs": [],
   "source": [
    "import pandas as pd\n",
    "import numpy as np\n",
    "import seaborn as sns\n",
    "import matplotlib.pyplot as plt\n",
    "\n",
    "from sklearn.model_selection import train_test_split, GridSearchCV\n",
    "from sklearn.preprocessing import StandardScaler\n",
    "from sklearn.ensemble import RandomForestRegressor\n",
    "from sklearn.metrics import mean_squared_error, r2_score\n",
    "import joblib\n"
   ]
  },
  {
   "cell_type": "code",
   "execution_count": 2,
   "id": "0424c0cb",
   "metadata": {},
   "outputs": [],
   "source": [
    "excel_file = 'SupplyChainEmissionFactorsforUSIndustriesCommodities.xlsx'  # Replace with actual path\n",
    "years = range(2010, 2017)"
   ]
  },
  {
   "cell_type": "code",
   "execution_count": null,
   "id": "8695d8e0",
   "metadata": {},
   "outputs": [],
   "source": [
    "years[2]"
   ]
  },
  {
   "cell_type": "code",
   "execution_count": null,
   "id": "3c61f721",
   "metadata": {},
   "outputs": [],
   "source": [
    "df_1 = pd.read_excel(excel_file, sheet_name=f'{years[0]}_Detail_Commodity')\n",
    "df_1.head()"
   ]
  },
  {
   "cell_type": "code",
   "execution_count": null,
   "id": "bd46eca8",
   "metadata": {},
   "outputs": [],
   "source": [
    "df_2 = pd.read_excel(excel_file, sheet_name=f'{years[0]}_Detail_Industry')\n",
    "df_2.head()"
   ]
  },
  {
   "cell_type": "code",
   "execution_count": null,
   "id": "77b0f743",
   "metadata": {},
   "outputs": [],
   "source": [
    "all_data = []\n",
    "\n",
    "for year in years:\n",
    "    try:\n",
    "        df_com = pd.read_excel(excel_file, sheet_name=f'{year}_Detail_Commodity')\n",
    "        df_ind = pd.read_excel(excel_file, sheet_name=f'{year}_Detail_Industry')\n",
    "        \n",
    "        df_com['Source'] = 'Commodity'\n",
    "        df_ind['Source'] = 'Industry'\n",
    "        df_com['Year'] = df_ind['Year'] = year\n",
    "        \n",
    "        df_com.columns = df_com.columns.str.strip()\n",
    "        df_ind.columns = df_ind.columns.str.strip()\n",
    "\n",
    "        df_com.rename(columns={\n",
    "            'Commodity Code': 'Code',\n",
    "            'Commodity Name': 'Name'\n",
    "        }, inplace=True)\n",
    "        \n",
    "        df_ind.rename(columns={\n",
    "            'Industry Code': 'Code',\n",
    "            'Industry Name': 'Name'\n",
    "        }, inplace=True)\n",
    "        \n",
    "        all_data.append(pd.concat([df_com, df_ind], ignore_index=True))\n",
    "        \n",
    "    except Exception as e:\n",
    "        print(f\"Error processing year {year}: {e}\")"
   ]
  },
  {
   "cell_type": "code",
   "execution_count": null,
   "id": "910d01a3",
   "metadata": {},
   "outputs": [],
   "source": [
    "all_data[3]"
   ]
  },
  {
   "cell_type": "code",
   "execution_count": null,
   "id": "13f30e13",
   "metadata": {},
   "outputs": [],
   "source": [
    "len(all_data)"
   ]
  },
  {
   "cell_type": "code",
   "execution_count": null,
   "id": "a5321693",
   "metadata": {},
   "outputs": [],
   "source": [
    "df = pd.concat(all_data, ignore_index=True)\n",
    "df.head(10)"
   ]
  },
  {
   "cell_type": "code",
   "execution_count": null,
   "id": "012a84a8",
   "metadata": {},
   "outputs": [],
   "source": [
    "len(df)"
   ]
  },
  {
   "cell_type": "code",
   "execution_count": null,
   "id": "6e5ae626",
   "metadata": {},
   "outputs": [],
   "source": [
    "df.columns # Checking columns"
   ]
  },
  {
   "cell_type": "code",
   "execution_count": null,
   "id": "1e45d5e5",
   "metadata": {},
   "outputs": [],
   "source": [
    "df.isnull().sum()"
   ]
  }
 ],
 "metadata": {
  "kernelspec": {
   "display_name": "Python 3",
   "language": "python",
   "name": "python3"
  },
  "language_info": {
   "codemirror_mode": {
    "name": "ipython",
    "version": 3
   },
   "file_extension": ".py",
   "mimetype": "text/x-python",
   "name": "python",
   "nbconvert_exporter": "python",
   "pygments_lexer": "ipython3",
   "version": "3.13.3"
  }
 },
 "nbformat": 4,
 "nbformat_minor": 5
}
